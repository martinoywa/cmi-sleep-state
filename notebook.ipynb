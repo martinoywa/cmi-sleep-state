{
 "cells": [
  {
   "cell_type": "markdown",
   "source": [
    "\n",
    "# CMI Sleep State Prediction\n",
    "<br/>\n",
    "\n",
    "## Problem Statement\n",
    "The goal of this competition is to detect sleep onset and wake.\n",
    "\n",
    "Your work could make it possible for researchers to conduct more reliable, larger-scale sleep studies across a range of populations and contexts. The results of such studies could provide even more information about sleep.\n",
    "\n",
    "The successful outcome of this competition can also have significant implications for children and youth, especially those with mood and behavior difficulties. Sleep is crucial in regulating mood, emotions, and behavior in individuals of all ages, particularly children. By accurately detecting periods of sleep and wakefulness from wrist-worn accelerometer data, researchers can gain a deeper understanding of sleep patterns and better understand disturbances in children.\n",
    "\n",
    "<br/>\n",
    "\n",
    "## ML Objective\n",
    "You will develop a model trained on wrist-worn accelerometer data in order to determine a person's sleep state.\n",
    "\n",
    "<br/>\n",
    "\n",
    "## ML Task Type\n",
    "Binary Classification"
   ],
   "metadata": {
    "collapsed": false
   },
   "id": "eefc8d17ff5c618"
  },
  {
   "cell_type": "markdown",
   "source": [
    "## EDA"
   ],
   "metadata": {
    "collapsed": false
   },
   "id": "7f15dc0c42a73df9"
  },
  {
   "cell_type": "code",
   "execution_count": 1,
   "id": "initial_id",
   "metadata": {
    "ExecuteTime": {
     "end_time": "2023-10-15T07:42:21.719399Z",
     "start_time": "2023-10-15T07:42:21.155087Z"
    }
   },
   "outputs": [],
   "source": [
    "import pandas as pd\n",
    "import dask.dataframe as dd"
   ]
  },
  {
   "cell_type": "code",
   "execution_count": 2,
   "id": "733e35ab23f34a06",
   "metadata": {
    "scrolled": true,
    "ExecuteTime": {
     "end_time": "2023-10-15T07:42:21.746786Z",
     "start_time": "2023-10-15T07:42:21.720067Z"
    }
   },
   "outputs": [
    {
     "data": {
      "text/plain": "      series_id  night   event     step                 timestamp\n0  038441c925bb      1   onset   4992.0  2018-08-14T22:26:00-0400\n1  038441c925bb      1  wakeup  10932.0  2018-08-15T06:41:00-0400\n2  038441c925bb      2   onset  20244.0  2018-08-15T19:37:00-0400\n3  038441c925bb      2  wakeup  27492.0  2018-08-16T05:41:00-0400\n4  038441c925bb      3   onset  39996.0  2018-08-16T23:03:00-0400",
      "text/html": "<div>\n<style scoped>\n    .dataframe tbody tr th:only-of-type {\n        vertical-align: middle;\n    }\n\n    .dataframe tbody tr th {\n        vertical-align: top;\n    }\n\n    .dataframe thead th {\n        text-align: right;\n    }\n</style>\n<table border=\"1\" class=\"dataframe\">\n  <thead>\n    <tr style=\"text-align: right;\">\n      <th></th>\n      <th>series_id</th>\n      <th>night</th>\n      <th>event</th>\n      <th>step</th>\n      <th>timestamp</th>\n    </tr>\n  </thead>\n  <tbody>\n    <tr>\n      <th>0</th>\n      <td>038441c925bb</td>\n      <td>1</td>\n      <td>onset</td>\n      <td>4992.0</td>\n      <td>2018-08-14T22:26:00-0400</td>\n    </tr>\n    <tr>\n      <th>1</th>\n      <td>038441c925bb</td>\n      <td>1</td>\n      <td>wakeup</td>\n      <td>10932.0</td>\n      <td>2018-08-15T06:41:00-0400</td>\n    </tr>\n    <tr>\n      <th>2</th>\n      <td>038441c925bb</td>\n      <td>2</td>\n      <td>onset</td>\n      <td>20244.0</td>\n      <td>2018-08-15T19:37:00-0400</td>\n    </tr>\n    <tr>\n      <th>3</th>\n      <td>038441c925bb</td>\n      <td>2</td>\n      <td>wakeup</td>\n      <td>27492.0</td>\n      <td>2018-08-16T05:41:00-0400</td>\n    </tr>\n    <tr>\n      <th>4</th>\n      <td>038441c925bb</td>\n      <td>3</td>\n      <td>onset</td>\n      <td>39996.0</td>\n      <td>2018-08-16T23:03:00-0400</td>\n    </tr>\n  </tbody>\n</table>\n</div>"
     },
     "execution_count": 2,
     "metadata": {},
     "output_type": "execute_result"
    }
   ],
   "source": [
    "train_df = dd.read_csv(\"data/train_events.csv\") #.compute()\n",
    "train_df.head()"
   ]
  },
  {
   "cell_type": "code",
   "execution_count": 3,
   "id": "ae562c72",
   "metadata": {
    "ExecuteTime": {
     "end_time": "2023-10-15T07:42:23.572263Z",
     "start_time": "2023-10-15T07:42:22.669219Z"
    }
   },
   "outputs": [
    {
     "data": {
      "text/plain": "      series_id  step                 timestamp  anglez    enmo\n0  038441c925bb     0  2018-08-14T15:30:00-0400  2.6367  0.0217\n1  038441c925bb     1  2018-08-14T15:30:05-0400  2.6368  0.0215\n2  038441c925bb     2  2018-08-14T15:30:10-0400  2.6370  0.0216\n3  038441c925bb     3  2018-08-14T15:30:15-0400  2.6368  0.0213\n4  038441c925bb     4  2018-08-14T15:30:20-0400  2.6368  0.0215",
      "text/html": "<div>\n<style scoped>\n    .dataframe tbody tr th:only-of-type {\n        vertical-align: middle;\n    }\n\n    .dataframe tbody tr th {\n        vertical-align: top;\n    }\n\n    .dataframe thead th {\n        text-align: right;\n    }\n</style>\n<table border=\"1\" class=\"dataframe\">\n  <thead>\n    <tr style=\"text-align: right;\">\n      <th></th>\n      <th>series_id</th>\n      <th>step</th>\n      <th>timestamp</th>\n      <th>anglez</th>\n      <th>enmo</th>\n    </tr>\n  </thead>\n  <tbody>\n    <tr>\n      <th>0</th>\n      <td>038441c925bb</td>\n      <td>0</td>\n      <td>2018-08-14T15:30:00-0400</td>\n      <td>2.6367</td>\n      <td>0.0217</td>\n    </tr>\n    <tr>\n      <th>1</th>\n      <td>038441c925bb</td>\n      <td>1</td>\n      <td>2018-08-14T15:30:05-0400</td>\n      <td>2.6368</td>\n      <td>0.0215</td>\n    </tr>\n    <tr>\n      <th>2</th>\n      <td>038441c925bb</td>\n      <td>2</td>\n      <td>2018-08-14T15:30:10-0400</td>\n      <td>2.6370</td>\n      <td>0.0216</td>\n    </tr>\n    <tr>\n      <th>3</th>\n      <td>038441c925bb</td>\n      <td>3</td>\n      <td>2018-08-14T15:30:15-0400</td>\n      <td>2.6368</td>\n      <td>0.0213</td>\n    </tr>\n    <tr>\n      <th>4</th>\n      <td>038441c925bb</td>\n      <td>4</td>\n      <td>2018-08-14T15:30:20-0400</td>\n      <td>2.6368</td>\n      <td>0.0215</td>\n    </tr>\n  </tbody>\n</table>\n</div>"
     },
     "execution_count": 3,
     "metadata": {},
     "output_type": "execute_result"
    }
   ],
   "source": [
    "train_df_parquet = dd.read_parquet(\"data/train_series.parquet\") #.compute()\n",
    "train_df_parquet.head()"
   ]
  },
  {
   "cell_type": "code",
   "execution_count": 4,
   "id": "f315a9d6",
   "metadata": {
    "scrolled": true,
    "ExecuteTime": {
     "end_time": "2023-10-15T07:42:28.098482Z",
     "start_time": "2023-10-15T07:42:28.094967Z"
    }
   },
   "outputs": [
    {
     "name": "stdout",
     "output_type": "stream",
     "text": [
      "<class 'dask.dataframe.core.DataFrame'>\n",
      "Columns: 5 entries, series_id to enmo\n",
      "dtypes: float32(2), uint32(1), string(2)"
     ]
    }
   ],
   "source": [
    "train_df_parquet.info()"
   ]
  },
  {
   "cell_type": "code",
   "execution_count": 6,
   "outputs": [
    {
     "data": {
      "text/plain": "      series_id   step                 timestamp     anglez    enmo  night  \\\n0  038441c925bb   4992  2018-08-14T22:26:00-0400 -78.690598  0.0099      1   \n1  038441c925bb  10932  2018-08-15T06:41:00-0400 -61.578201  0.0263      1   \n2  038441c925bb  20244  2018-08-15T19:37:00-0400  -6.387400  0.0182      2   \n3  038441c925bb  27492  2018-08-16T05:41:00-0400 -45.355099  0.0165      2   \n4  038441c925bb  39996  2018-08-16T23:03:00-0400  -1.786700  0.0000      3   \n\n    event  \n0   onset  \n1  wakeup  \n2   onset  \n3  wakeup  \n4   onset  ",
      "text/html": "<div>\n<style scoped>\n    .dataframe tbody tr th:only-of-type {\n        vertical-align: middle;\n    }\n\n    .dataframe tbody tr th {\n        vertical-align: top;\n    }\n\n    .dataframe thead th {\n        text-align: right;\n    }\n</style>\n<table border=\"1\" class=\"dataframe\">\n  <thead>\n    <tr style=\"text-align: right;\">\n      <th></th>\n      <th>series_id</th>\n      <th>step</th>\n      <th>timestamp</th>\n      <th>anglez</th>\n      <th>enmo</th>\n      <th>night</th>\n      <th>event</th>\n    </tr>\n  </thead>\n  <tbody>\n    <tr>\n      <th>0</th>\n      <td>038441c925bb</td>\n      <td>4992</td>\n      <td>2018-08-14T22:26:00-0400</td>\n      <td>-78.690598</td>\n      <td>0.0099</td>\n      <td>1</td>\n      <td>onset</td>\n    </tr>\n    <tr>\n      <th>1</th>\n      <td>038441c925bb</td>\n      <td>10932</td>\n      <td>2018-08-15T06:41:00-0400</td>\n      <td>-61.578201</td>\n      <td>0.0263</td>\n      <td>1</td>\n      <td>wakeup</td>\n    </tr>\n    <tr>\n      <th>2</th>\n      <td>038441c925bb</td>\n      <td>20244</td>\n      <td>2018-08-15T19:37:00-0400</td>\n      <td>-6.387400</td>\n      <td>0.0182</td>\n      <td>2</td>\n      <td>onset</td>\n    </tr>\n    <tr>\n      <th>3</th>\n      <td>038441c925bb</td>\n      <td>27492</td>\n      <td>2018-08-16T05:41:00-0400</td>\n      <td>-45.355099</td>\n      <td>0.0165</td>\n      <td>2</td>\n      <td>wakeup</td>\n    </tr>\n    <tr>\n      <th>4</th>\n      <td>038441c925bb</td>\n      <td>39996</td>\n      <td>2018-08-16T23:03:00-0400</td>\n      <td>-1.786700</td>\n      <td>0.0000</td>\n      <td>3</td>\n      <td>onset</td>\n    </tr>\n  </tbody>\n</table>\n</div>"
     },
     "execution_count": 6,
     "metadata": {},
     "output_type": "execute_result"
    }
   ],
   "source": [
    "# join on id and time stamp\n",
    "train_df_parquet_join_events = dd.merge(train_df_parquet, train_df, on=[\"series_id\", \"timestamp\", \"step\"])\n",
    "train_df_parquet_join_events.head()"
   ],
   "metadata": {
    "collapsed": false,
    "ExecuteTime": {
     "end_time": "2023-10-15T07:44:46.231702Z",
     "start_time": "2023-10-15T07:44:44.178678Z"
    }
   },
   "id": "9b52211940fd53f6"
  },
  {
   "cell_type": "markdown",
   "source": [
    "- Dataset now shows onset vs wakeup information.\n",
    "- Let's split `timestamp` to hours and minutes as dates may not be that useful\n",
    "- We'll drop `night` as it's an enumeration of potential onset / wakeup event pairs. At most one pair of events can occur for each night. Which is that important to know.\n",
    "- `series_id` is just a unique identifier for an individual, we'll drop that column in training, but store the test one for submission. Similar step will be performed for `step`."
   ],
   "metadata": {
    "collapsed": false
   },
   "id": "8a0e2737ac322bad"
  },
  {
   "cell_type": "code",
   "execution_count": 10,
   "id": "ecfb2e98",
   "metadata": {},
   "outputs": [],
   "source": [
    "filtered_df = train_df_parquet.loc[train_df_parquet[\"series_id\"] == \"038441c925bb\"]"
   ]
  },
  {
   "cell_type": "code",
   "execution_count": 12,
   "id": "dbeb983c",
   "metadata": {},
   "outputs": [
    {
     "data": {
      "text/html": [
       "<div>\n",
       "<style scoped>\n",
       "    .dataframe tbody tr th:only-of-type {\n",
       "        vertical-align: middle;\n",
       "    }\n",
       "\n",
       "    .dataframe tbody tr th {\n",
       "        vertical-align: top;\n",
       "    }\n",
       "\n",
       "    .dataframe thead th {\n",
       "        text-align: right;\n",
       "    }\n",
       "</style>\n",
       "<table border=\"1\" class=\"dataframe\">\n",
       "  <thead>\n",
       "    <tr style=\"text-align: right;\">\n",
       "      <th></th>\n",
       "      <th>series_id</th>\n",
       "      <th>step</th>\n",
       "      <th>timestamp</th>\n",
       "      <th>anglez</th>\n",
       "      <th>enmo</th>\n",
       "    </tr>\n",
       "  </thead>\n",
       "  <tbody>\n",
       "    <tr>\n",
       "      <th>0</th>\n",
       "      <td>038441c925bb</td>\n",
       "      <td>0</td>\n",
       "      <td>2018-08-14T15:30:00-0400</td>\n",
       "      <td>2.636700</td>\n",
       "      <td>0.0217</td>\n",
       "    </tr>\n",
       "    <tr>\n",
       "      <th>1</th>\n",
       "      <td>038441c925bb</td>\n",
       "      <td>1</td>\n",
       "      <td>2018-08-14T15:30:05-0400</td>\n",
       "      <td>2.636800</td>\n",
       "      <td>0.0215</td>\n",
       "    </tr>\n",
       "    <tr>\n",
       "      <th>2</th>\n",
       "      <td>038441c925bb</td>\n",
       "      <td>2</td>\n",
       "      <td>2018-08-14T15:30:10-0400</td>\n",
       "      <td>2.637000</td>\n",
       "      <td>0.0216</td>\n",
       "    </tr>\n",
       "    <tr>\n",
       "      <th>3</th>\n",
       "      <td>038441c925bb</td>\n",
       "      <td>3</td>\n",
       "      <td>2018-08-14T15:30:15-0400</td>\n",
       "      <td>2.636800</td>\n",
       "      <td>0.0213</td>\n",
       "    </tr>\n",
       "    <tr>\n",
       "      <th>4</th>\n",
       "      <td>038441c925bb</td>\n",
       "      <td>4</td>\n",
       "      <td>2018-08-14T15:30:20-0400</td>\n",
       "      <td>2.636800</td>\n",
       "      <td>0.0215</td>\n",
       "    </tr>\n",
       "    <tr>\n",
       "      <th>...</th>\n",
       "      <td>...</td>\n",
       "      <td>...</td>\n",
       "      <td>...</td>\n",
       "      <td>...</td>\n",
       "      <td>...</td>\n",
       "    </tr>\n",
       "    <tr>\n",
       "      <th>389875</th>\n",
       "      <td>038441c925bb</td>\n",
       "      <td>389875</td>\n",
       "      <td>2018-09-06T04:59:35-0400</td>\n",
       "      <td>-27.373899</td>\n",
       "      <td>0.0110</td>\n",
       "    </tr>\n",
       "    <tr>\n",
       "      <th>389876</th>\n",
       "      <td>038441c925bb</td>\n",
       "      <td>389876</td>\n",
       "      <td>2018-09-06T04:59:40-0400</td>\n",
       "      <td>-27.493799</td>\n",
       "      <td>0.0110</td>\n",
       "    </tr>\n",
       "    <tr>\n",
       "      <th>389877</th>\n",
       "      <td>038441c925bb</td>\n",
       "      <td>389877</td>\n",
       "      <td>2018-09-06T04:59:45-0400</td>\n",
       "      <td>-27.533701</td>\n",
       "      <td>0.0111</td>\n",
       "    </tr>\n",
       "    <tr>\n",
       "      <th>389878</th>\n",
       "      <td>038441c925bb</td>\n",
       "      <td>389878</td>\n",
       "      <td>2018-09-06T04:59:50-0400</td>\n",
       "      <td>-28.003599</td>\n",
       "      <td>0.0111</td>\n",
       "    </tr>\n",
       "    <tr>\n",
       "      <th>389879</th>\n",
       "      <td>038441c925bb</td>\n",
       "      <td>389879</td>\n",
       "      <td>2018-09-06T04:59:55-0400</td>\n",
       "      <td>-28.656700</td>\n",
       "      <td>0.0125</td>\n",
       "    </tr>\n",
       "  </tbody>\n",
       "</table>\n",
       "<p>389880 rows × 5 columns</p>\n",
       "</div>"
      ],
      "text/plain": [
       "           series_id    step                 timestamp     anglez    enmo\n",
       "0       038441c925bb       0  2018-08-14T15:30:00-0400   2.636700  0.0217\n",
       "1       038441c925bb       1  2018-08-14T15:30:05-0400   2.636800  0.0215\n",
       "2       038441c925bb       2  2018-08-14T15:30:10-0400   2.637000  0.0216\n",
       "3       038441c925bb       3  2018-08-14T15:30:15-0400   2.636800  0.0213\n",
       "4       038441c925bb       4  2018-08-14T15:30:20-0400   2.636800  0.0215\n",
       "...              ...     ...                       ...        ...     ...\n",
       "389875  038441c925bb  389875  2018-09-06T04:59:35-0400 -27.373899  0.0110\n",
       "389876  038441c925bb  389876  2018-09-06T04:59:40-0400 -27.493799  0.0110\n",
       "389877  038441c925bb  389877  2018-09-06T04:59:45-0400 -27.533701  0.0111\n",
       "389878  038441c925bb  389878  2018-09-06T04:59:50-0400 -28.003599  0.0111\n",
       "389879  038441c925bb  389879  2018-09-06T04:59:55-0400 -28.656700  0.0125\n",
       "\n",
       "[389880 rows x 5 columns]"
      ]
     },
     "execution_count": 12,
     "metadata": {},
     "output_type": "execute_result"
    }
   ],
   "source": [
    "filtered_df.compute()"
   ]
  },
  {
   "cell_type": "code",
   "execution_count": 34,
   "id": "8598c17a",
   "metadata": {},
   "outputs": [
    {
     "data": {
      "text/plain": [
       "0      038441c925bb\n",
       "1      03d92c9f6f8a\n",
       "2      0402a003dae9\n",
       "3      04f547b8017d\n",
       "4      05e1944c3818\n",
       "           ...     \n",
       "272    fa149c3c4bde\n",
       "273    fb223ed2278c\n",
       "274    fbf33b1a2c10\n",
       "275    fcca183903b7\n",
       "276    fe90110788d2\n",
       "Name: series_id, Length: 277, dtype: string"
      ]
     },
     "execution_count": 34,
     "metadata": {},
     "output_type": "execute_result"
    }
   ],
   "source": [
    "train_df_parquet[\"series_id\"].unique().compute()"
   ]
  },
  {
   "cell_type": "markdown",
   "source": [
    "## Training\n",
    "\n",
    "- We'll start with simple no validation dataset."
   ],
   "metadata": {
    "collapsed": false
   },
   "id": "3d54bf4a0bdc60dc"
  },
  {
   "cell_type": "code",
   "execution_count": null,
   "outputs": [],
   "source": [
    "X, y = #, #"
   ],
   "metadata": {
    "collapsed": false
   },
   "id": "3ed76b50ec23444b"
  },
  {
   "cell_type": "code",
   "execution_count": 7,
   "id": "b6c33c2f",
   "metadata": {
    "ExecuteTime": {
     "end_time": "2023-10-15T07:48:00.672537Z",
     "start_time": "2023-10-15T07:48:00.647372Z"
    }
   },
   "outputs": [
    {
     "data": {
      "text/plain": "      series_id  step                 timestamp  anglez    enmo\n0  038441c925bb     0  2018-08-14T15:30:00-0400  2.6367  0.0217\n1  038441c925bb     1  2018-08-14T15:30:05-0400  2.6368  0.0215\n2  038441c925bb     2  2018-08-14T15:30:10-0400  2.6370  0.0216\n3  038441c925bb     3  2018-08-14T15:30:15-0400  2.6368  0.0213\n4  038441c925bb     4  2018-08-14T15:30:20-0400  2.6368  0.0215",
      "text/html": "<div>\n<style scoped>\n    .dataframe tbody tr th:only-of-type {\n        vertical-align: middle;\n    }\n\n    .dataframe tbody tr th {\n        vertical-align: top;\n    }\n\n    .dataframe thead th {\n        text-align: right;\n    }\n</style>\n<table border=\"1\" class=\"dataframe\">\n  <thead>\n    <tr style=\"text-align: right;\">\n      <th></th>\n      <th>series_id</th>\n      <th>step</th>\n      <th>timestamp</th>\n      <th>anglez</th>\n      <th>enmo</th>\n    </tr>\n  </thead>\n  <tbody>\n    <tr>\n      <th>0</th>\n      <td>038441c925bb</td>\n      <td>0</td>\n      <td>2018-08-14T15:30:00-0400</td>\n      <td>2.6367</td>\n      <td>0.0217</td>\n    </tr>\n    <tr>\n      <th>1</th>\n      <td>038441c925bb</td>\n      <td>1</td>\n      <td>2018-08-14T15:30:05-0400</td>\n      <td>2.6368</td>\n      <td>0.0215</td>\n    </tr>\n    <tr>\n      <th>2</th>\n      <td>038441c925bb</td>\n      <td>2</td>\n      <td>2018-08-14T15:30:10-0400</td>\n      <td>2.6370</td>\n      <td>0.0216</td>\n    </tr>\n    <tr>\n      <th>3</th>\n      <td>038441c925bb</td>\n      <td>3</td>\n      <td>2018-08-14T15:30:15-0400</td>\n      <td>2.6368</td>\n      <td>0.0213</td>\n    </tr>\n    <tr>\n      <th>4</th>\n      <td>038441c925bb</td>\n      <td>4</td>\n      <td>2018-08-14T15:30:20-0400</td>\n      <td>2.6368</td>\n      <td>0.0215</td>\n    </tr>\n  </tbody>\n</table>\n</div>"
     },
     "execution_count": 7,
     "metadata": {},
     "output_type": "execute_result"
    }
   ],
   "source": [
    "# a look at the test data\n",
    "test_df_parquet = dd.read_parquet(\"data/test_series.parquet\") #.compute()\n",
    "test_df_parquet.head()"
   ]
  },
  {
   "cell_type": "markdown",
   "source": [
    "- Which step presents an onset or wakeup and what is the confidence? Goal."
   ],
   "metadata": {
    "collapsed": false
   },
   "id": "dec5719025731432"
  },
  {
   "cell_type": "markdown",
   "source": [
    "## Evaluation and Submission"
   ],
   "metadata": {
    "collapsed": false
   },
   "id": "ba3f2c5e0e48a40f"
  },
  {
   "cell_type": "code",
   "execution_count": null,
   "outputs": [],
   "source": [],
   "metadata": {
    "collapsed": false
   },
   "id": "7e8d106c53d102b3"
  }
 ],
 "metadata": {
  "kernelspec": {
   "display_name": "Python 3 (ipykernel)",
   "language": "python",
   "name": "python3"
  },
  "language_info": {
   "codemirror_mode": {
    "name": "ipython",
    "version": 3
   },
   "file_extension": ".py",
   "mimetype": "text/x-python",
   "name": "python",
   "nbconvert_exporter": "python",
   "pygments_lexer": "ipython3",
   "version": "3.11.4"
  }
 },
 "nbformat": 4,
 "nbformat_minor": 5
}
